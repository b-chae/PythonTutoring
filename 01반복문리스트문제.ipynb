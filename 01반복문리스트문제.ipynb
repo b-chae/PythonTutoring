{
  "nbformat": 4,
  "nbformat_minor": 0,
  "metadata": {
    "colab": {
      "name": "01반복문리스트문제.ipynb",
      "provenance": [],
      "authorship_tag": "ABX9TyNOEZcE4imcLS/F/WOcTUSp",
      "include_colab_link": true
    },
    "kernelspec": {
      "name": "python3",
      "display_name": "Python 3"
    }
  },
  "cells": [
    {
      "cell_type": "markdown",
      "metadata": {
        "id": "view-in-github",
        "colab_type": "text"
      },
      "source": [
        "<a href=\"https://colab.research.google.com/github/b-chae/PythonTutoring/blob/update/01%EB%B0%98%EB%B3%B5%EB%AC%B8%EB%A6%AC%EC%8A%A4%ED%8A%B8%EB%AC%B8%EC%A0%9C.ipynb\" target=\"_parent\"><img src=\"https://colab.research.google.com/assets/colab-badge.svg\" alt=\"Open In Colab\"/></a>"
      ]
    },
    {
      "cell_type": "markdown",
      "metadata": {
        "id": "KS1e4XB4RjAr"
      },
      "source": [
        "### 파이썬 반복문 & 리스트 연습문제 😆"
      ]
    },
    {
      "cell_type": "markdown",
      "metadata": {
        "id": "3aI_OJ6SRY9H"
      },
      "source": [
        "<1번> 리스트에 동물 이름 저장돼 있다.\n",
        "```\n",
        "mylist = ['dog', 'cat', 'parrot']\n",
        "```\n",
        "for문을 사용해서 동물 이름의 첫 글자만 출력하자.\n",
        "```\n",
        "d\n",
        "c\n",
        "p\n",
        "```"
      ]
    },
    {
      "cell_type": "markdown",
      "metadata": {
        "id": "9VrjE3jBRvzi"
      },
      "source": [
        "<2번> 리스트에 알파벳이 저장되어있다.\n",
        "\n",
        "```\n",
        "mylist = ['a', 'b', 'c', 'd', 'e', 'f', 'g', 'h']\n",
        "```\n",
        "for문을 사용하여 다음과 같이 듬성등성 출력하자.\n",
        "```\n",
        "a\n",
        "c\n",
        "e\n",
        "g\n",
        "```"
      ]
    },
    {
      "cell_type": "markdown",
      "metadata": {
        "id": "OMJmnTMdSeFP"
      },
      "source": [
        "<3번> 2번문제에서 for문을 사용하여 거꾸로 출력하자.\n",
        "\n",
        "\n",
        "```\n",
        "h\n",
        "g\n",
        "f\n",
        "e\n",
        "d\n",
        "c\n",
        "b\n",
        "a\n",
        "```\n",
        "\n"
      ]
    },
    {
      "cell_type": "markdown",
      "metadata": {
        "id": "sDwBo9vHSrio"
      },
      "source": [
        "<4번> 리스트에 다음과 같은 숫자가 저장되어 있다.\n",
        "\n",
        "\n",
        "```\n",
        "mylist = [3, 23, -8, 10, -3, -1, 100]\n",
        "```\n",
        "다음과 같이 음수만 출력해보자\n",
        "```\n",
        "-8\n",
        "-3\n",
        "-1\n",
        "```"
      ]
    },
    {
      "cell_type": "markdown",
      "metadata": {
        "id": "QGTwWLHfTMVv"
      },
      "source": [
        "<5번> 리스트에서 20보다 작은 3의 배수만 출력해보자\n",
        "```\n",
        "mylist = [13, 21, 12, 14, 30, 18]\n",
        "```\n",
        "```\n",
        "12\n",
        "18\n",
        "```"
      ]
    },
    {
      "cell_type": "markdown",
      "metadata": {
        "id": "aKYX0mUbToql"
      },
      "source": [
        "<6번> 햇님초 6학년 1반 학생을 모두 저장하는 리스트를 만들어보자. 학생수를 입력받으면 그 수만큼의 학생들의 이름을 입력받도록 만들자.\n",
        "```\n",
        "How many students are in this class?\n",
        ">>>3\n",
        "Enter the student name :\n",
        ">>>Minsu\n",
        "Enter the student name :\n",
        ">>>Cheolsu\n",
        "Enter the student name :\n",
        ">>> Haneul\n",
        "Finally Done!\n",
        "```"
      ]
    },
    {
      "cell_type": "markdown",
      "metadata": {
        "id": "buG5FDvAUdhK"
      },
      "source": [
        "이제 학생이름을 입력받을 때마다 학생들의 이름을 저장해보자.\n",
        "```\n",
        "StudentList = []\n",
        "```\n",
        "```\n",
        "How many students are in this class?\n",
        ">>>3\n",
        "Enter the student name :\n",
        ">>>Minsu\n",
        "Enter the student name :\n",
        ">>>Cheolsu\n",
        "Enter the student name :\n",
        ">>> Haneul\n",
        "(Minsu, Cheolsu, Haneul)\n",
        "```\n",
        "입력이 끝나면 맨 마지막에 (Minsu, Cheolsu, Haneul)처럼 학생들 이름을 모두 프린트하세요!"
      ]
    },
    {
      "cell_type": "markdown",
      "metadata": {
        "id": "zSdwxV45VTyC"
      },
      "source": [
        "<7번> 5번의 은행일을 수행해 봅시다. 입력을 받고 입력이 withdraw이면 천원을 출금합니다. deposit이면 이천원을 저금합니다.\n",
        "```\n",
        "myMoney = 10000\n",
        "```\n",
        "```\n",
        ">>>withdraw\n",
        "천원을 출금합니다.\n",
        "총 9000원 입니다.\n",
        ">>>deposit\n",
        "이천원을 저금합니다.\n",
        "총 12000원 입니다.\n",
        ">>>withdraw\n",
        "천원을 출금합니다.\n",
        "총 11000원 입니다.\n",
        ">>>withdraw\n",
        "천원을 출금합니다.\n",
        "총 10000원 입니다.\n",
        ">>>withdraw\n",
        "천원을 출금합니다.\n",
        "총 9000원 입니다.\n",
        "```"
      ]
    }
  ]
}