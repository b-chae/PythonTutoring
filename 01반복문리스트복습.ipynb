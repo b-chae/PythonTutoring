{
  "nbformat": 4,
  "nbformat_minor": 0,
  "metadata": {
    "colab": {
      "name": "01반복문리스트복습.ipynb",
      "provenance": [],
      "authorship_tag": "ABX9TyOayLq0UX4UjgQscuVQHoaX",
      "include_colab_link": true
    },
    "kernelspec": {
      "name": "python3",
      "display_name": "Python 3"
    }
  },
  "cells": [
    {
      "cell_type": "markdown",
      "metadata": {
        "id": "view-in-github",
        "colab_type": "text"
      },
      "source": [
        "<a href=\"https://colab.research.google.com/github/b-chae/PythonTutoring/blob/update/01%EB%B0%98%EB%B3%B5%EB%AC%B8%EB%A6%AC%EC%8A%A4%ED%8A%B8%EB%B3%B5%EC%8A%B5.ipynb\" target=\"_parent\"><img src=\"https://colab.research.google.com/assets/colab-badge.svg\" alt=\"Open In Colab\"/></a>"
      ]
    },
    {
      "cell_type": "markdown",
      "metadata": {
        "id": "Stgkd0LGW-If"
      },
      "source": [
        "#### 반복문 & 리스트 헷갈리기 쉬운 것들 모음\n",
        "> 다음과 같은 코드를 실행하면 어떤 출력이 나올까?"
      ]
    },
    {
      "cell_type": "markdown",
      "metadata": {
        "id": "0iocWA1FY0Oj"
      },
      "source": [
        "다음과 같은 리스트가 있다.\n",
        "\n",
        "```\n",
        "mylist = ['I', 'am', 'handsome', 'boy']\n",
        "```\n",
        "Q. 다음과 같이 출력하려면 어떻게 만들어야 할까?\n",
        "```\n",
        "I\n",
        "am\n",
        "handsome\n",
        "boy\n",
        "```\n"
      ]
    },
    {
      "cell_type": "markdown",
      "metadata": {
        "id": "N-twgYGsZPKH"
      },
      "source": [
        "다음과 같은 리스트가 있다.\n",
        "\n",
        "\n",
        "```\n",
        "fruits = ['apple', 'banana', 'orange']\n",
        "```\n",
        "Q. 다음과 같은 리스트로 만들려면 어떻게 해야할까?\n",
        "```\n",
        "fruits = ['apple', 'banana', 'orange', 'melon']\n",
        "```\n"
      ]
    },
    {
      "cell_type": "markdown",
      "metadata": {
        "id": "KdF874_kZiRk"
      },
      "source": [
        "Q. 다음과 같이 메론을 3개를 추가하고 싶다면 어떻게 해야할까?\n",
        "\n",
        "\n",
        "```\n",
        "fruits = ['apple', 'banana', 'orange', 'melon', 'melon', 'melon']\n",
        "```\n",
        "\n"
      ]
    },
    {
      "cell_type": "code",
      "metadata": {
        "id": "8U3r7HSpVyDj"
      },
      "source": [
        "for i in range(10):\n",
        "  print(i)"
      ],
      "execution_count": null,
      "outputs": []
    },
    {
      "cell_type": "code",
      "metadata": {
        "id": "vAricerOWQoI"
      },
      "source": [
        "print(list(range(10)))"
      ],
      "execution_count": null,
      "outputs": []
    },
    {
      "cell_type": "code",
      "metadata": {
        "id": "o5lNCeAXWWG-"
      },
      "source": [
        "mylist = ['a', 'b', 'c', 'd', 'e', 'f', 'g', 'h']"
      ],
      "execution_count": null,
      "outputs": []
    },
    {
      "cell_type": "code",
      "metadata": {
        "id": "-Q7ARimkWe6u"
      },
      "source": [
        "print(len(mylist))\n",
        "print(range(len(mylist)))"
      ],
      "execution_count": null,
      "outputs": []
    },
    {
      "cell_type": "code",
      "metadata": {
        "id": "IFRWThVLWpbi"
      },
      "source": [
        "print(mylist[3])"
      ],
      "execution_count": null,
      "outputs": []
    },
    {
      "cell_type": "code",
      "metadata": {
        "id": "zMO3EwATWr1x"
      },
      "source": [
        "for a in mylist:\n",
        "  print(a)"
      ],
      "execution_count": null,
      "outputs": []
    },
    {
      "cell_type": "code",
      "metadata": {
        "id": "BnAIdsf8WuO5"
      },
      "source": [
        "for a in range(len(mylist)):\n",
        "  print(a)"
      ],
      "execution_count": null,
      "outputs": []
    },
    {
      "cell_type": "code",
      "metadata": {
        "id": "Q4z-fBgXWxjm"
      },
      "source": [
        "for a in range(len(mylist)):\n",
        "  print(mylist[a])"
      ],
      "execution_count": null,
      "outputs": []
    }
  ]
}