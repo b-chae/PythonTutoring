{
  "nbformat": 4,
  "nbformat_minor": 0,
  "metadata": {
    "colab": {
      "name": "Python-변수.ipynb",
      "provenance": [],
      "collapsed_sections": [],
      "include_colab_link": true
    },
    "kernelspec": {
      "name": "python3",
      "display_name": "Python 3"
    }
  },
  "cells": [
    {
      "cell_type": "markdown",
      "metadata": {
        "id": "view-in-github",
        "colab_type": "text"
      },
      "source": [
        "<a href=\"https://colab.research.google.com/github/b-chae/PythonTutoring/blob/main/%EA%B8%B0%EC%B4%88/Python_%EB%B3%80%EC%88%98.ipynb\" target=\"_parent\"><img src=\"https://colab.research.google.com/assets/colab-badge.svg\" alt=\"Open In Colab\"/></a>"
      ]
    },
    {
      "cell_type": "markdown",
      "metadata": {
        "id": "MiAaSxpdHm70"
      },
      "source": [
        "## 변수\n",
        "- 변수와 상수란?\n",
        "- 둘의 차이점은?\n",
        "- 파이썬에서 어떻게 사용하는지?"
      ]
    },
    {
      "cell_type": "code",
      "metadata": {
        "colab": {
          "base_uri": "https://localhost:8080/"
        },
        "id": "JrWlIgV8LKOy",
        "outputId": "51e04c56-be79-4869-a7f4-53d7fa63cd7f"
      },
      "source": [
        "x = x + 1\n",
        "print(x)\n",
        "y = x * 3\n",
        "print(y)\n",
        "print(x - y)"
      ],
      "execution_count": null,
      "outputs": [
        {
          "output_type": "stream",
          "text": [
            "4\n",
            "12\n",
            "-8\n"
          ],
          "name": "stdout"
        }
      ]
    },
    {
      "cell_type": "markdown",
      "metadata": {
        "id": "wl3XSwwMLT2V"
      },
      "source": [
        "- x = x + 1 에서 좌변의 x와 우변의 x의 차이?\n",
        "- y = x * 3 에서 y와 x 각각의 의미?\n",
        "- print(x - y)에서 x-y 는 변수 ? 상수 ?\n",
        "- Python에서의 =는 어떤 의미일까? 수학에서와의 차이"
      ]
    },
    {
      "cell_type": "markdown",
      "metadata": {
        "id": "-ebiPzrXNW2X"
      },
      "source": [
        "## 자료형, 변수의 정보를 나타내는 다양한 방법들\n",
        "- 정수\n",
        "- 실수\n",
        "- 문자열"
      ]
    },
    {
      "cell_type": "code",
      "metadata": {
        "colab": {
          "base_uri": "https://localhost:8080/"
        },
        "id": "iAfdFcx7NrjQ",
        "outputId": "f233c4c7-02d9-4e92-d9e6-64a75c2b8ffe"
      },
      "source": [
        "a = 1\n",
        "b = 3.141592\n",
        "c = \"예쁜벼리쌤\"\n",
        "\n",
        "print(type(a))\n",
        "print(type(b))\n",
        "print"
      ],
      "execution_count": null,
      "outputs": [
        {
          "output_type": "stream",
          "text": [
            "<class 'int'>\n",
            "<class 'float'>\n",
            "<class 'str'>\n"
          ],
          "name": "stdout"
        }
      ]
    },
    {
      "cell_type": "markdown",
      "metadata": {
        "id": "IIitsG1jQrwS"
      },
      "source": [
        "- 정수 -> 실수, 실수 -> 정수로 바꿔볼까?\n",
        "- 문자열 -> 실수, 실수 -> 문자열로 자유자제로 바꿔볼까?"
      ]
    },
    {
      "cell_type": "code",
      "metadata": {
        "colab": {
          "base_uri": "https://localhost:8080/"
        },
        "id": "aq_hAk64Qzgt",
        "outputId": "cea68b47-f687-4d33-c8c7-a57180353b3d"
      },
      "source": [
        "a = \"10.345\"\n",
        "b = 10.345\n",
        "print(a, b)\n",
        "c = 2\n",
        "d = 2.0\n",
        "print(c, d)"
      ],
      "execution_count": null,
      "outputs": [
        {
          "output_type": "stream",
          "text": [
            "10.345 10.345\n",
            "2 2.0\n"
          ],
          "name": "stdout"
        }
      ]
    },
    {
      "cell_type": "markdown",
      "metadata": {
        "id": "jHROqRH4OHen"
      },
      "source": [
        "## 연산\n",
        "- 파이썬의 기본 연산은 +, -, *, / 이다.\n",
        "- 문자열끼리도 연산을 할 수 있을까?"
      ]
    },
    {
      "cell_type": "code",
      "metadata": {
        "colab": {
          "base_uri": "https://localhost:8080/"
        },
        "id": "BpymzQFGOUWW",
        "outputId": "f27df17e-3052-4c08-c6e3-fac9fc884554"
      },
      "source": [
        "a = 1 + 2 - 5 + 7 * 3\n",
        "b = 3 + 3.23 * 9.14 / 5.23\n",
        "print(a)\n",
        "print(b)"
      ],
      "execution_count": null,
      "outputs": [
        {
          "output_type": "stream",
          "text": [
            "19\n",
            "8.644780114722753\n"
          ],
          "name": "stdout"
        }
      ]
    },
    {
      "cell_type": "code",
      "metadata": {
        "colab": {
          "base_uri": "https://localhost:8080/"
        },
        "id": "IXFhpccfOf4M",
        "outputId": "a9b59cd5-eb2e-4e26-b5bb-c3a0b784b972"
      },
      "source": [
        "print(\"그래?\" * 2)"
      ],
      "execution_count": null,
      "outputs": [
        {
          "output_type": "stream",
          "text": [
            "그래?그래?\n"
          ],
          "name": "stdout"
        }
      ]
    },
    {
      "cell_type": "markdown",
      "metadata": {
        "id": "HgSkCYPzNOLy"
      },
      "source": [
        "## 출력과 입력\n",
        "- 출력하는 방법, 사용자로부터 입력을 받아들이는 방법"
      ]
    },
    {
      "cell_type": "code",
      "metadata": {
        "colab": {
          "base_uri": "https://localhost:8080/"
        },
        "id": "pNCOCjHhQMNv",
        "outputId": "b33a950a-d1bd-4452-ac93-4595c226ca7e"
      },
      "source": [
        "print(\"Hello World! 🌍\")\n",
        "print(\"What's your name?\")\n",
        "name = input()\n",
        "print(\"Your name is \" + name + \", right? 😀 \")"
      ],
      "execution_count": null,
      "outputs": [
        {
          "output_type": "stream",
          "text": [
            "Hello World! 🌍\n",
            "What's your name?\n",
            "byeori chae\n",
            "Your name is byeori chae, right? 😀 \n"
          ],
          "name": "stdout"
        }
      ]
    },
    {
      "cell_type": "markdown",
      "metadata": {
        "id": "T5UdLi2ZSlgH"
      },
      "source": [
        "###쉬운 실습1\n",
        "어떤 숫자 두 개를 곱하시겠어요?\n",
        "\n",
        "```\n",
        "4\n",
        "5\n",
        "```\n",
        "정답은 20 입니다\n",
        "\n",
        "\n",
        "---\n",
        "\n"
      ]
    },
    {
      "cell_type": "markdown",
      "metadata": {
        "id": "0QeWxV9xS018"
      },
      "source": [
        "###쉬운 실습2\n",
        "어떤 숫자 두 개를 곱하시겠어요?\n",
        "\n",
        "\n",
        "```\n",
        "3\n",
        "10.1\n",
        "```\n",
        "3 곱하기 10.1은 30.3 입니다\n",
        "\n",
        "\n",
        "---\n",
        "\n"
      ]
    },
    {
      "cell_type": "markdown",
      "metadata": {
        "id": "xTr3-XRMRxka"
      },
      "source": [
        "###어려운 실습\n",
        "안녕하세요, 사랑의 커피숍입니다. 아메리카노 한 잔에 4000원 입니다. 몇 잔을 원하세요?\n",
        "```\n",
        "10\n",
        "```\n",
        "10잔에 40000원 입니다. 현금 얼마 내시겠어요?\n",
        "\n",
        "```\n",
        "50000\n",
        "```\n",
        "50000원 받았습니다. 거스름돈 여기 10000원 있습니다.\n",
        "\n"
      ]
    }
  ]
}