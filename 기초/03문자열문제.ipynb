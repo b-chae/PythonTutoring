{
  "nbformat": 4,
  "nbformat_minor": 0,
  "metadata": {
    "colab": {
      "name": "03문자열문제.ipynb",
      "provenance": [],
      "authorship_tag": "ABX9TyMy+PVLqRV4p+BVKQrNE5xv",
      "include_colab_link": true
    },
    "kernelspec": {
      "name": "python3",
      "display_name": "Python 3"
    }
  },
  "cells": [
    {
      "cell_type": "markdown",
      "metadata": {
        "id": "view-in-github",
        "colab_type": "text"
      },
      "source": [
        "<a href=\"https://colab.research.google.com/github/b-chae/PythonTutoring/blob/main/%EA%B8%B0%EC%B4%88/03%EB%AC%B8%EC%9E%90%EC%97%B4%EB%AC%B8%EC%A0%9C.ipynb\" target=\"_parent\"><img src=\"https://colab.research.google.com/assets/colab-badge.svg\" alt=\"Open In Colab\"/></a>"
      ]
    },
    {
      "cell_type": "markdown",
      "metadata": {
        "id": "irGyG6WisJJm"
      },
      "source": [
        "1) 문자열 거꾸로 출력하기"
      ]
    },
    {
      "cell_type": "code",
      "metadata": {
        "id": "2M5L2xQoqjp9"
      },
      "source": [
        "a = \"I can speak French\""
      ],
      "execution_count": null,
      "outputs": []
    },
    {
      "cell_type": "markdown",
      "metadata": {
        "id": "Riw55DYGsOPH"
      },
      "source": [
        "2) 문자열 띄엄띄엄 출력하기"
      ]
    },
    {
      "cell_type": "markdown",
      "metadata": {
        "id": "wGpDVYi3sX_v"
      },
      "source": [
        "3) list -> 문자열로 바꾸기\n",
        "```\n",
        "a = ['I', 'can', 'speak', 'French']\n",
        "s = ''\n",
        "```\n",
        "```\n",
        "print(s)\n",
        "````\n",
        "```\n",
        "I can speak French\n",
        "```"
      ]
    },
    {
      "cell_type": "code",
      "metadata": {
        "id": "xlSiNrhss9ZV"
      },
      "source": [
        "a = ['I', 'can', 'speak', 'French']\n",
        "s = ''"
      ],
      "execution_count": null,
      "outputs": []
    },
    {
      "cell_type": "markdown",
      "metadata": {
        "id": "8dDLr3zm1vWW"
      },
      "source": [
        "4) 단어의 개수 세기!\n",
        "\n",
        "```\n",
        ">>>Cheese burger and french fries\n",
        "5\n",
        "```"
      ]
    },
    {
      "cell_type": "markdown",
      "metadata": {
        "id": "3QaAYgde3C8M"
      },
      "source": [
        "5) 단어를 단위단위마다 나눠보기\n",
        "\n",
        "\n",
        "```\n",
        ">>>age:10\n",
        "your age is 10\n",
        ">>>hair:long\n",
        "your hair is long\n",
        ">>>skirt:orange\n",
        "your skirt is orange\n",
        "```\n",
        "\n"
      ]
    },
    {
      "cell_type": "markdown",
      "metadata": {
        "id": "Fl2m9zKb3evq"
      },
      "source": [
        "6) 생년월일 입력받기\n",
        "\n",
        "```\n",
        ">>>19981106\n",
        "당신은 1998년 11월 6일 생입니다.\n",
        "```\n",
        "\n"
      ]
    },
    {
      "cell_type": "markdown",
      "metadata": {
        "id": "PR3fA7WC3zAI"
      },
      "source": [
        "7) 해당 단어가 몇 개있는 지 찾아보기\n",
        "```\n",
        "무슨 단어를 찾고 싶으세요?\n",
        ">>>apple\n",
        "문장을 입력하세요\n",
        ">>>i have an apple i have a pen pineapple apple pen\n",
        "2\n",
        "```"
      ]
    }
  ]
}