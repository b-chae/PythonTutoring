{
  "nbformat": 4,
  "nbformat_minor": 0,
  "metadata": {
    "colab": {
      "name": "03문자열.ipynb",
      "provenance": [],
      "authorship_tag": "ABX9TyPpAA3G1zE+VPdWEgjRhoVF",
      "include_colab_link": true
    },
    "kernelspec": {
      "name": "python3",
      "display_name": "Python 3"
    }
  },
  "cells": [
    {
      "cell_type": "markdown",
      "metadata": {
        "id": "view-in-github",
        "colab_type": "text"
      },
      "source": [
        "<a href=\"https://colab.research.google.com/github/b-chae/PythonTutoring/blob/main/%EA%B8%B0%EC%B4%88/03%EB%AC%B8%EC%9E%90%EC%97%B4.ipynb\" target=\"_parent\"><img src=\"https://colab.research.google.com/assets/colab-badge.svg\" alt=\"Open In Colab\"/></a>"
      ]
    },
    {
      "cell_type": "markdown",
      "metadata": {
        "id": "aVcrNlk7ggys"
      },
      "source": [
        "## 문자열\n",
        "- 문자열(String)이란 문자, 단어 등으로 구성된 문자들의 집합을 의미한다. 예를 들어 다음과 같은 것들이 문자열이다.\n",
        "\n",
        "```\n",
        "\"Life is too short, You need Python\"\n",
        "\"a\"\n",
        "\"123\"\n",
        "```\n",
        "- 엥 123이 숫자가 아니라 문자열?"
      ]
    },
    {
      "cell_type": "code",
      "metadata": {
        "colab": {
          "base_uri": "https://localhost:8080/"
        },
        "id": "p-dE0XhmguQ2",
        "outputId": "e01e0d90-d4ee-45b1-a223-642e31be2c58"
      },
      "source": [
        "print(type(123))\n",
        "print(type(\"123\"))\n",
        "print(type('123'))"
      ],
      "execution_count": 1,
      "outputs": [
        {
          "output_type": "stream",
          "text": [
            "<class 'int'>\n",
            "<class 'str'>\n",
            "<class 'str'>\n"
          ],
          "name": "stdout"
        }
      ]
    },
    {
      "cell_type": "code",
      "metadata": {
        "id": "dYtvEjvkg3G4"
      },
      "source": [
        "# 여러 줄 문자열\n",
        "multiline = \"Life is too short\\nYou need python\""
      ],
      "execution_count": null,
      "outputs": []
    },
    {
      "cell_type": "code",
      "metadata": {
        "id": "sWk7ULh5hC3X"
      },
      "source": [
        "# 문자열 더해서 연결하기\n",
        "head = \"Python\"\n",
        "tail = \"is fun!\""
      ],
      "execution_count": null,
      "outputs": []
    },
    {
      "cell_type": "code",
      "metadata": {
        "id": "NhfrLLNUhIgs"
      },
      "source": [
        "# 문자열 곱하기\n",
        "a = \"Python! \""
      ],
      "execution_count": null,
      "outputs": []
    },
    {
      "cell_type": "code",
      "metadata": {
        "id": "We2cJQ8GhPGX"
      },
      "source": [
        "# 문자열의 길이 구하기"
      ],
      "execution_count": null,
      "outputs": []
    },
    {
      "cell_type": "code",
      "metadata": {
        "id": "naMsxswzhRQH"
      },
      "source": [
        "# 문자열 인덱싱, 거꾸로 인덱싱, 슬라이싱"
      ],
      "execution_count": null,
      "outputs": []
    },
    {
      "cell_type": "markdown",
      "metadata": {
        "id": "EF9KtraRhZKI"
      },
      "source": [
        "#### 문제\n",
        "- 문자열 하나씩 건너뛰어 출력하기\n",
        "- 문자열 거꾸로 출력하기"
      ]
    },
    {
      "cell_type": "code",
      "metadata": {
        "id": "qu8CbxjJhp5b"
      },
      "source": [
        "# 문자열 하나씩 건너뛰어 출력하기"
      ],
      "execution_count": null,
      "outputs": []
    },
    {
      "cell_type": "code",
      "metadata": {
        "id": "Sk0J4ucrhsIl"
      },
      "source": [
        "# 문자열 거꾸로 출력하기"
      ],
      "execution_count": null,
      "outputs": []
    },
    {
      "cell_type": "markdown",
      "metadata": {
        "id": "NACMp0Fdh4hs"
      },
      "source": [
        "#### 문자열 관련 함수들"
      ]
    },
    {
      "cell_type": "code",
      "metadata": {
        "id": "V_ZYQv59h6wD"
      },
      "source": [
        "# count 문자 개수 세기\n",
        "a = \"hobby\"\n",
        "a.count('b')"
      ],
      "execution_count": null,
      "outputs": []
    },
    {
      "cell_type": "code",
      "metadata": {
        "id": "eI1C_vBQiEgg"
      },
      "source": [
        "# find 위치 알려주기\n",
        "a = \"Python is the best choice\"\n",
        "a.find('b')\n",
        "a.find('k')"
      ],
      "execution_count": null,
      "outputs": []
    },
    {
      "cell_type": "code",
      "metadata": {
        "id": "1IslBVC5ikhm"
      },
      "source": [
        "# 문제! 문장에서 'f'가 몇 개 있는지 세어서 알려주기\n",
        "# count 사용하기 / 안 사용하기"
      ],
      "execution_count": null,
      "outputs": []
    },
    {
      "cell_type": "code",
      "metadata": {
        "id": "ZHI9E1HiiZl5"
      },
      "source": [
        "# 문자열 나누기\n",
        "a = \"Life is too short\"\n",
        "a.split()"
      ],
      "execution_count": null,
      "outputs": []
    },
    {
      "cell_type": "code",
      "metadata": {
        "id": "57ZP3uV9ifX8"
      },
      "source": [
        "# 문제! 문장에서의 단어 개수를 세고 싶다면?"
      ],
      "execution_count": null,
      "outputs": []
    }
  ]
}